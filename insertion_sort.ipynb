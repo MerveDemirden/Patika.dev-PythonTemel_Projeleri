{
  "nbformat": 4,
  "nbformat_minor": 0,
  "metadata": {
    "colab": {
      "name": "insertion_sort.ipynb",
      "provenance": [],
      "collapsed_sections": [],
      "authorship_tag": "ABX9TyNvSNvRFyW5DEAgg0Hh2B4g",
      "include_colab_link": true
    },
    "kernelspec": {
      "name": "python3",
      "display_name": "Python 3"
    },
    "language_info": {
      "name": "python"
    }
  },
  "cells": [
    {
      "cell_type": "markdown",
      "metadata": {
        "id": "view-in-github",
        "colab_type": "text"
      },
      "source": [
        "<a href=\"https://colab.research.google.com/github/MerveDemirden/Patika.dev-Python_Projeleri/blob/main/insertion_sort.ipynb\" target=\"_parent\"><img src=\"https://colab.research.google.com/assets/colab-badge.svg\" alt=\"Open In Colab\"/></a>"
      ]
    },
    {
      "cell_type": "markdown",
      "source": [
        "Insertion Sort Projesi \n",
        "\n"
      ],
      "metadata": {
        "id": "PM8YuglLa1bv"
      }
    },
    {
      "cell_type": "markdown",
      "source": [
        "Proje 1"
      ],
      "metadata": {
        "id": "dAEbIhtGa6Z5"
      }
    },
    {
      "cell_type": "markdown",
      "source": [
        "[22,27,16,2,18,6] -> Insertion Sort\n",
        "\n"
      ],
      "metadata": {
        "id": "2xBM0W0-a9IK"
      }
    },
    {
      "cell_type": "markdown",
      "source": [
        "**1.Yukarı verilen dizinin sort türüne göre aşamalarını yazınız.** \n",
        "\n",
        "#####**Insertion Sort Algoritması** , düzensiz  elemanlarını tek tek ele alarak  dizinin sıralanmış yerine yerleştirir.\n",
        "\n",
        "\n",
        "\n",
        "```\n",
        "▶[22,27,16,2,18,6]\n",
        "\n",
        "▶[22,27,16,2,18,6]\n",
        "\n",
        "▶[16,22,27,2,18,6]\n",
        "\n",
        "▶[2,16,22,27,18,6]\n",
        "\n",
        "▶[2,16,18,22,27,6]\n",
        "\n",
        "▶[2,6,16,18,22,**27**]\n",
        "```\n",
        "\n"
      ],
      "metadata": {
        "id": "zTZZO94hqBqI"
      }
    },
    {
      "cell_type": "markdown",
      "source": [
        "**2.Big-O gösterimini yazınız.**\n",
        "\n",
        "Bir algoritmanın performansını veya time complexity'sini hesaplamak için kullanılır.\n",
        "\n",
        "O(n^2)"
      ],
      "metadata": {
        "id": "Dk1NMXV3sN7Q"
      }
    },
    {
      "cell_type": "markdown",
      "source": [
        "**3.Time Complexity: Average case: Aradığımız sayının ortada olması,\n",
        "\n",
        "Worst case: Aradığımız sayının sonda olması, \n",
        "\n",
        "Best case: Aradığımız sayının dizinin en başında olması.**\n"
      ],
      "metadata": {
        "id": "EnXuH5YKs0m2"
      }
    },
    {
      "cell_type": "markdown",
      "source": [
        "\n",
        "**4.Dizi sıralandıktan sonra 18 sayısı hangi case kapsamına girer? Yazınız.**\n",
        "\n",
        "Average case (veri setinin ortasında olduğundan)\n",
        "\n",
        "\n"
      ],
      "metadata": {
        "id": "f4_icwQdteQ4"
      }
    },
    {
      "cell_type": "markdown",
      "source": [
        "**[7,3,5,8,2,9,4,15,6] dizisinin Insertion Sort'a göre ilk 4 adımını yazınız.**\n",
        "\n",
        "\n",
        "```\n",
        "▶[7,3,5,8,2,9,4,15,6]\n",
        "\n",
        "▶[3,7,5,8,2,9,4,15,6]\n",
        "\n",
        "▶[3,5,7,8,2,9,4,15,6]\n",
        "\n",
        "▶[3,5,7,8,2,9,4,15,6]\n",
        "\n",
        "```"
      ],
      "metadata": {
        "id": "pwuDzLE_t1Z9"
      }
    }
  ]
}