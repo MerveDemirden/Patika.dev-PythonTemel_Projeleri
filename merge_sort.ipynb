{
  "nbformat": 4,
  "nbformat_minor": 0,
  "metadata": {
    "colab": {
      "name": "merge_sort.ipynb",
      "provenance": [],
      "collapsed_sections": [],
      "authorship_tag": "ABX9TyMJDtEDH2mON/fe1NneYFYy",
      "include_colab_link": true
    },
    "kernelspec": {
      "name": "python3",
      "display_name": "Python 3"
    },
    "language_info": {
      "name": "python"
    }
  },
  "cells": [
    {
      "cell_type": "markdown",
      "metadata": {
        "id": "view-in-github",
        "colab_type": "text"
      },
      "source": [
        "<a href=\"https://colab.research.google.com/github/MerveDemirden/Patika.dev-Python_Projeleri/blob/main/merge_sort.ipynb\" target=\"_parent\"><img src=\"https://colab.research.google.com/assets/colab-badge.svg\" alt=\"Open In Colab\"/></a>"
      ]
    },
    {
      "cell_type": "markdown",
      "source": [
        "# **Merge Sort Projesi**\n",
        "\n",
        "**Proje 2**\n",
        "\n",
        "[16,21,11,8,12,22] -> Merge Sort\n",
        "\n",
        "\n",
        "1. Yukarıdaki dizinin sort türüne göre aşamalarını yazınız.\n",
        " \n",
        "2.  Big-O gösterimini yazınız.\n",
        "\n",
        "\n",
        "\n"
      ],
      "metadata": {
        "id": "VUHNzuVGQSMO"
      }
    },
    {
      "cell_type": "markdown",
      "source": [
        "**1**\n",
        "\n",
        "```  [16,21,11,8,12,22]\n",
        "\n",
        "[16,21,11] - [8,12,22]\n",
        "\n",
        "[16,21] - [11] - [8,12] - [22]\n",
        "\n",
        "[16] - [21] - [11] - [8] - [12] - [22]  \n",
        "\n",
        "[16,21] - [8,11] - [12,22]  \n",
        "\n",
        "[8,11,16,21] - [12,22]\n",
        "\n",
        "[8,11,12,16,21,22]\n",
        "\n",
        "```\n",
        "\n"
      ],
      "metadata": {
        "id": "BkrSdhHZRLYA"
      }
    },
    {
      "cell_type": "markdown",
      "source": [
        "**2**\n",
        "\n",
        "Big-O gösterimi: O(n.logn)"
      ],
      "metadata": {
        "id": "EVl7_o7YRmOX"
      }
    }
  ]
}