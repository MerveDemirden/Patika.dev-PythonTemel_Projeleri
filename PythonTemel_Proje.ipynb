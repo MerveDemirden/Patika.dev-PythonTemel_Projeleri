{
 "cells": [
  {
   "cell_type": "markdown",
   "id": "a413cbc7-cbb9-4f14-8c2f-bfd8cf889712",
   "metadata": {},
   "source": [
    "# PYTHON TEMEL - PROJE"
   ]
  },
  {
   "cell_type": "markdown",
   "id": "88c82f9e-c8c7-4a19-9062-55ccfd1de95a",
   "metadata": {},
   "source": [
    "##### 1- Bir listeyi düzleştiren (flatten) fonksiyon yazın. Elemanları birden çok katmanlı listelerden ([[3],2] gibi) oluşabileceği gibi, non-scalar verilerden de oluşabilir. "
   ]
  },
  {
   "cell_type": "code",
   "execution_count": 4,
   "id": "442e3be7-7099-48b7-941b-b8f6e1e703fd",
   "metadata": {},
   "outputs": [
    {
     "name": "stdout",
     "output_type": "stream",
     "text": [
      "[1, 'a', 'cat', 2, 3, 'dog', 4, 5]\n"
     ]
    }
   ],
   "source": [
    "\n",
    "liste = [[1,'a',['cat'],2],[[[3]],'dog'],4,5]\n",
    "liste_yeni = []\n",
    "def flatten(x):\n",
    "    for i in x:\n",
    "        if isinstance(i, list):\n",
    "            flatten(i)\n",
    "        else:\n",
    "            liste_yeni.append(i)\n",
    "\n",
    "flatten(liste)\n",
    "print(liste_yeni)"
   ]
  },
  {
   "cell_type": "markdown",
   "id": "e905521a-0a9e-42a3-83c3-dca201a566f2",
   "metadata": {
    "tags": []
   },
   "source": [
    "##### 2- Verilen listenin içindeki elemanları tersine döndüren bir fonksiyon yazın. Eğer listenin içindeki elemanlar da liste içeriyorsa onların elemanlarını da tersine döndürün. "
   ]
  },
  {
   "cell_type": "code",
   "execution_count": 5,
   "id": "5ff0a025-3cd1-4ba1-adf0-fd28567754ea",
   "metadata": {},
   "outputs": [
    {
     "name": "stdout",
     "output_type": "stream",
     "text": [
      "[[7, 6, 5], [4, 3], [2, 1]]\n"
     ]
    }
   ],
   "source": [
    "l =[[1, 2], [3, 4], [5, 6, 7]]\n",
    "l=l[::-1]\n",
    "\n",
    "for i in range(len(l)):\n",
    "    \n",
    "    (l[i])=(l[i])[::-1]\n",
    "    \n",
    "print(l)"
   ]
  }
 ],
 "metadata": {
  "kernelspec": {
   "display_name": "Python 3 (ipykernel)",
   "language": "python",
   "name": "python3"
  },
  "language_info": {
   "codemirror_mode": {
    "name": "ipython",
    "version": 3
   },
   "file_extension": ".py",
   "mimetype": "text/x-python",
   "name": "python",
   "nbconvert_exporter": "python",
   "pygments_lexer": "ipython3",
   "version": "3.10.4"
  }
 },
 "nbformat": 4,
 "nbformat_minor": 5
}
